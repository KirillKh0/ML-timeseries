{
 "cells": [
  {
   "cell_type": "markdown",
   "metadata": {
    "toc": true
   },
   "source": [
    "<h1>Содержание<span class=\"tocSkip\"></span></h1>\n",
    "<div class=\"toc\"><ul class=\"toc-item\"><li><ul class=\"toc-item\"><li><ul class=\"toc-item\"><li><span><a href=\"#Полезные-ссылки:\" data-toc-modified-id=\"Полезные-ссылки:-0.0.1\"><span class=\"toc-item-num\">0.0.1&nbsp;&nbsp;</span><font color=\"orange\">Полезные ссылки:</font></a></span></li></ul></li><li><span><a href=\"#Общее-впечатление\" data-toc-modified-id=\"Общее-впечатление-0.1\"><span class=\"toc-item-num\">0.1&nbsp;&nbsp;</span><font color=\"orange\">Общее впечатление</font></a></span></li><li><span><a href=\"#Общее-впечатление-(ревью-2)\" data-toc-modified-id=\"Общее-впечатление-(ревью-2)-0.2\"><span class=\"toc-item-num\">0.2&nbsp;&nbsp;</span><font color=\"orange\">Общее впечатление (ревью 2)</font></a></span></li></ul></li><li><span><a href=\"#Подготовка\" data-toc-modified-id=\"Подготовка-1\"><span class=\"toc-item-num\">1&nbsp;&nbsp;</span>Подготовка</a></span></li><li><span><a href=\"#Анализ\" data-toc-modified-id=\"Анализ-2\"><span class=\"toc-item-num\">2&nbsp;&nbsp;</span>Анализ</a></span></li><li><span><a href=\"#Обучение\" data-toc-modified-id=\"Обучение-3\"><span class=\"toc-item-num\">3&nbsp;&nbsp;</span>Обучение</a></span></li><li><span><a href=\"#Тестирование\" data-toc-modified-id=\"Тестирование-4\"><span class=\"toc-item-num\">4&nbsp;&nbsp;</span>Тестирование</a></span></li><li><span><a href=\"#Вывод\" data-toc-modified-id=\"Вывод-5\"><span class=\"toc-item-num\">5&nbsp;&nbsp;</span>Вывод</a></span></li><li><span><a href=\"#Чек-лист-проверки\" data-toc-modified-id=\"Чек-лист-проверки-6\"><span class=\"toc-item-num\">6&nbsp;&nbsp;</span>Чек-лист проверки</a></span></li></ul></div>"
   ]
  },
  {
   "cell_type": "markdown",
   "metadata": {},
   "source": [
    "#  Прогнозирование заказов такси"
   ]
  },
  {
   "cell_type": "markdown",
   "metadata": {},
   "source": [
    "Компания «Чётенькое такси» собрала исторические данные о заказах такси в аэропортах. Чтобы привлекать больше водителей в период пиковой нагрузки, нужно спрогнозировать количество заказов такси на следующий час. Постройте модель для такого предсказания.\n",
    "\n",
    "Значение метрики *RMSE* на тестовой выборке должно быть не больше 48.\n",
    "\n",
    "Вам нужно:\n",
    "\n",
    "1. Загрузить данные и выполнить их ресемплирование по одному часу.\n",
    "2. Проанализировать данные.\n",
    "3. Обучить разные модели с различными гиперпараметрами. Сделать тестовую выборку размером 10% от исходных данных.\n",
    "4. Проверить данные на тестовой выборке и сделать выводы.\n",
    "\n",
    "\n",
    "Данные лежат в файле `taxi.csv`. Количество заказов находится в столбце `num_orders` (от англ. *number of orders*, «число заказов»)."
   ]
  },
  {
   "cell_type": "code",
   "execution_count": 1,
   "metadata": {},
   "outputs": [],
   "source": [
    "import pandas as pd\n",
    "from statsmodels.tsa.seasonal import seasonal_decompose\n",
    "from sklearn.metrics import mean_squared_error, make_scorer\n",
    "from statsmodels.tsa.stattools import adfuller\n",
    "from sklearn.ensemble import RandomForestRegressor\n",
    "from sklearn.linear_model import Ridge, LinearRegression \n",
    "from catboost import CatBoostRegressor\n",
    "from sklearn.model_selection import GridSearchCV, TimeSeriesSplit, train_test_split, cross_val_score\n",
    "import numpy as np\n",
    "import matplotlib.pyplot as plt"
   ]
  },
  {
   "cell_type": "markdown",
   "metadata": {},
   "source": [
    "## Подготовка"
   ]
  },
  {
   "cell_type": "code",
   "execution_count": 2,
   "metadata": {},
   "outputs": [],
   "source": [
    "data = pd.read_csv('/datasets/taxi.csv', parse_dates=[0], index_col=[0])\n",
    "data.sort_index(inplace=True)"
   ]
  },
  {
   "cell_type": "code",
   "execution_count": 3,
   "metadata": {},
   "outputs": [
    {
     "data": {
      "text/html": [
       "<div>\n",
       "<style scoped>\n",
       "    .dataframe tbody tr th:only-of-type {\n",
       "        vertical-align: middle;\n",
       "    }\n",
       "\n",
       "    .dataframe tbody tr th {\n",
       "        vertical-align: top;\n",
       "    }\n",
       "\n",
       "    .dataframe thead th {\n",
       "        text-align: right;\n",
       "    }\n",
       "</style>\n",
       "<table border=\"1\" class=\"dataframe\">\n",
       "  <thead>\n",
       "    <tr style=\"text-align: right;\">\n",
       "      <th></th>\n",
       "      <th>num_orders</th>\n",
       "    </tr>\n",
       "    <tr>\n",
       "      <th>datetime</th>\n",
       "      <th></th>\n",
       "    </tr>\n",
       "  </thead>\n",
       "  <tbody>\n",
       "    <tr>\n",
       "      <th>2018-03-01 00:00:00</th>\n",
       "      <td>9</td>\n",
       "    </tr>\n",
       "    <tr>\n",
       "      <th>2018-03-01 00:10:00</th>\n",
       "      <td>14</td>\n",
       "    </tr>\n",
       "    <tr>\n",
       "      <th>2018-03-01 00:20:00</th>\n",
       "      <td>28</td>\n",
       "    </tr>\n",
       "    <tr>\n",
       "      <th>2018-03-01 00:30:00</th>\n",
       "      <td>20</td>\n",
       "    </tr>\n",
       "    <tr>\n",
       "      <th>2018-03-01 00:40:00</th>\n",
       "      <td>32</td>\n",
       "    </tr>\n",
       "  </tbody>\n",
       "</table>\n",
       "</div>"
      ],
      "text/plain": [
       "                     num_orders\n",
       "datetime                       \n",
       "2018-03-01 00:00:00           9\n",
       "2018-03-01 00:10:00          14\n",
       "2018-03-01 00:20:00          28\n",
       "2018-03-01 00:30:00          20\n",
       "2018-03-01 00:40:00          32"
      ]
     },
     "execution_count": 3,
     "metadata": {},
     "output_type": "execute_result"
    }
   ],
   "source": [
    "data.head()"
   ]
  },
  {
   "cell_type": "code",
   "execution_count": 4,
   "metadata": {},
   "outputs": [
    {
     "name": "stdout",
     "output_type": "stream",
     "text": [
      "<class 'pandas.core.frame.DataFrame'>\n",
      "DatetimeIndex: 26496 entries, 2018-03-01 00:00:00 to 2018-08-31 23:50:00\n",
      "Data columns (total 1 columns):\n",
      " #   Column      Non-Null Count  Dtype\n",
      "---  ------      --------------  -----\n",
      " 0   num_orders  26496 non-null  int64\n",
      "dtypes: int64(1)\n",
      "memory usage: 414.0 KB\n"
     ]
    }
   ],
   "source": [
    "data.info()"
   ]
  },
  {
   "cell_type": "code",
   "execution_count": 5,
   "metadata": {},
   "outputs": [],
   "source": [
    "data = data.resample('1H').sum()"
   ]
  },
  {
   "cell_type": "code",
   "execution_count": 6,
   "metadata": {},
   "outputs": [
    {
     "data": {
      "text/plain": [
       "<AxesSubplot:xlabel='datetime'>"
      ]
     },
     "execution_count": 6,
     "metadata": {},
     "output_type": "execute_result"
    },
    {
     "data": {
      "image/png": "[encoded data removed]",
      "text/plain": [
       "<Figure size 432x288 with 1 Axes>"
      ]
     },
     "metadata": {
      "needs_background": "light"
     },
     "output_type": "display_data"
    }
   ],
   "source": [
    "data.plot()"
   ]
  },
  {
   "cell_type": "code",
   "execution_count": 7,
   "metadata": {
    "scrolled": true
   },
   "outputs": [
    {
     "data": {
      "text/html": [
       "<div>\n",
       "<style scoped>\n",
       "    .dataframe tbody tr th:only-of-type {\n",
       "        vertical-align: middle;\n",
       "    }\n",
       "\n",
       "    .dataframe tbody tr th {\n",
       "        vertical-align: top;\n",
       "    }\n",
       "\n",
       "    .dataframe thead th {\n",
       "        text-align: right;\n",
       "    }\n",
       "</style>\n",
       "<table border=\"1\" class=\"dataframe\">\n",
       "  <thead>\n",
       "    <tr style=\"text-align: right;\">\n",
       "      <th></th>\n",
       "      <th>num_orders</th>\n",
       "    </tr>\n",
       "    <tr>\n",
       "      <th>datetime</th>\n",
       "      <th></th>\n",
       "    </tr>\n",
       "  </thead>\n",
       "  <tbody>\n",
       "    <tr>\n",
       "      <th>2018-03-01 00:00:00</th>\n",
       "      <td>124</td>\n",
       "    </tr>\n",
       "    <tr>\n",
       "      <th>2018-03-01 01:00:00</th>\n",
       "      <td>85</td>\n",
       "    </tr>\n",
       "    <tr>\n",
       "      <th>2018-03-01 02:00:00</th>\n",
       "      <td>71</td>\n",
       "    </tr>\n",
       "    <tr>\n",
       "      <th>2018-03-01 03:00:00</th>\n",
       "      <td>66</td>\n",
       "    </tr>\n",
       "    <tr>\n",
       "      <th>2018-03-01 04:00:00</th>\n",
       "      <td>43</td>\n",
       "    </tr>\n",
       "  </tbody>\n",
       "</table>\n",
       "</div>"
      ],
      "text/plain": [
       "                     num_orders\n",
       "datetime                       \n",
       "2018-03-01 00:00:00         124\n",
       "2018-03-01 01:00:00          85\n",
       "2018-03-01 02:00:00          71\n",
       "2018-03-01 03:00:00          66\n",
       "2018-03-01 04:00:00          43"
      ]
     },
     "execution_count": 7,
     "metadata": {},
     "output_type": "execute_result"
    }
   ],
   "source": [
    "data.head()"
   ]
  },
  {
   "cell_type": "code",
   "execution_count": 8,
   "metadata": {},
   "outputs": [
    {
     "data": {
      "text/plain": [
       "<AxesSubplot:>"
      ]
     },
     "execution_count": 8,
     "metadata": {},
     "output_type": "execute_result"
    },
    {
     "data": {
      "image/png": "[encoded data removed]",
      "text/plain": [
       "<Figure size 432x288 with 1 Axes>"
      ]
     },
     "metadata": {
      "needs_background": "light"
     },
     "output_type": "display_data"
    }
   ],
   "source": [
    "data['num_orders'].hist()"
   ]
  },
  {
   "cell_type": "code",
   "execution_count": 9,
   "metadata": {},
   "outputs": [
    {
     "data": {
      "text/plain": [
       "count    4416.000000\n",
       "mean       84.422781\n",
       "std        45.023853\n",
       "min         0.000000\n",
       "25%        54.000000\n",
       "50%        78.000000\n",
       "75%       107.000000\n",
       "max       462.000000\n",
       "Name: num_orders, dtype: float64"
      ]
     },
     "execution_count": 9,
     "metadata": {},
     "output_type": "execute_result"
    }
   ],
   "source": [
    "data['num_orders'].describe()"
   ]
  },
  {
   "cell_type": "markdown",
   "metadata": {},
   "source": [
    "Данные выгружены. Был произведен ресэмлинг с периодом 1 час."
   ]
  },
  {
   "cell_type": "markdown",
   "metadata": {},
   "source": [
    "## Анализ"
   ]
  },
  {
   "cell_type": "code",
   "execution_count": 10,
   "metadata": {},
   "outputs": [
    {
     "data": {
      "image/png": "[encoded data removed]",
      "text/plain": [
       "<Figure size 432x288 with 4 Axes>"
      ]
     },
     "execution_count": 10,
     "metadata": {},
     "output_type": "execute_result"
    },
    {
     "data": {
      "image/png": "[encoded data removed]",
      "text/plain": [
       "<Figure size 432x288 with 4 Axes>"
      ]
     },
     "metadata": {
      "needs_background": "light"
     },
     "output_type": "display_data"
    }
   ],
   "source": [
    "temp = data['2018':'2020']\n",
    "\n",
    "decomposed = seasonal_decompose(temp)\n",
    "decomposed.plot()"
   ]
  },
  {
   "cell_type": "code",
   "execution_count": 11,
   "metadata": {},
   "outputs": [
    {
     "data": {
      "text/plain": [
       "<AxesSubplot:xlabel='datetime'>"
      ]
     },
     "execution_count": 11,
     "metadata": {},
     "output_type": "execute_result"
    },
    {
     "data": {
      "image/png": "[encoded data removed]",
      "text/plain": [
       "<Figure size 432x288 with 1 Axes>"
      ]
     },
     "metadata": {
      "needs_background": "light"
     },
     "output_type": "display_data"
    }
   ],
   "source": [
    "decomposed.seasonal['2018-03-01':'2018-03-02'].plot()"
   ]
  },
  {
   "cell_type": "markdown",
   "metadata": {},
   "source": [
    "Трендом является, то, что количество заказов растёт в течение года.<br>\n",
    "Сезонностью является, то, что количество заказов имеет период в 1 день, где в 00:00 является пиком, который идёт на спад до 06:00, достигая минимума за день, далее идёт подъём до 09:00, далее функция, то возрастает, то убывает до 18:00, после чего возрастает до 00:00"
   ]
  },
  {
   "cell_type": "markdown",
   "metadata": {},
   "source": [
    "## Обучение"
   ]
  },
  {
   "cell_type": "code",
   "execution_count": 12,
   "metadata": {},
   "outputs": [
    {
     "name": "stdout",
     "output_type": "stream",
     "text": [
      "Коэффициент расширенного теста Дики-Фуллера: -3.068924\n",
      "Критические значения: 0.028940\n",
      "\t1%: -3.432\n",
      "\t5%: -2.862\n",
      "\t10%: -2.567\n"
     ]
    }
   ],
   "source": [
    "Y = data['num_orders'].values\n",
    "result = adfuller(Y)\n",
    "print('Коэффициент расширенного теста Дики-Фуллера: %f' % result[0])\n",
    "print('Критические значения: %f' % result[1])\n",
    "for key, value in result[4].items():\n",
    "    print('\\t%s: %.3f' % (key, value))"
   ]
  },
  {
   "cell_type": "markdown",
   "metadata": {},
   "source": [
    "Итак, Статистика теста равна 0.028940, и это значение больше всех трех значениями уровней статистической значимости, что означает стационарность."
   ]
  },
  {
   "cell_type": "code",
   "execution_count": 13,
   "metadata": {},
   "outputs": [],
   "source": [
    "def make_features(data, max_lag, rolling_mean_size):\n",
    "    temp = data.copy()\n",
    "    temp['year'] = temp.index.year\n",
    "    temp['month'] = temp.index.month\n",
    "    temp['day'] = temp.index.day\n",
    "    temp['dayofweek'] = temp.index.dayofweek\n",
    "    \n",
    "    for lag in range(1, max_lag + 1):\n",
    "        temp['lag_{}'.format(lag)] = temp['num_orders'].shift(lag)\n",
    "\n",
    "    temp['rolling_mean'] = temp['num_orders'].shift().rolling(rolling_mean_size).mean()\n",
    "    return temp"
   ]
  },
  {
   "cell_type": "code",
   "execution_count": 30,
   "metadata": {},
   "outputs": [],
   "source": [
    "data_up = make_features(data, 31, 1)\n",
    "\n",
    "train, test = train_test_split(data_up, shuffle=False, test_size=0.1)\n",
    "train = train.dropna()\n",
    "\n",
    "features_train = train.drop(columns='num_orders')\n",
    "target_train = train['num_orders']\n",
    "features_test = test.drop(columns='num_orders')\n",
    "target_test = test['num_orders']"
   ]
  },
  {
   "cell_type": "code",
   "execution_count": 15,
   "metadata": {},
   "outputs": [],
   "source": [
    "def root_mean_squared_error(Y, prediction):\n",
    "    return mean_squared_error(Y, prediction)**(0.5)"
   ]
  },
  {
   "cell_type": "code",
   "execution_count": 16,
   "metadata": {},
   "outputs": [],
   "source": [
    "scorer = make_scorer(root_mean_squared_error, greater_is_better=False)"
   ]
  },
  {
   "cell_type": "code",
   "execution_count": 17,
   "metadata": {},
   "outputs": [],
   "source": [
    "cv_time = TimeSeriesSplit(n_splits=5)"
   ]
  },
  {
   "cell_type": "code",
   "execution_count": 18,
   "metadata": {},
   "outputs": [
    {
     "name": "stdout",
     "output_type": "stream",
     "text": [
      "Best parameters: {'alpha': 0.01, 'fit_intercept': True, 'max_iter': 100, 'normalize': True}\n"
     ]
    }
   ],
   "source": [
    "#instantiating the model\n",
    "model = Ridge()\n",
    "\n",
    "#defining the parameter grid \n",
    "param_grid = {'alpha': [0.001, 0.01, 0.1, 1, 10, 100],\n",
    "              'fit_intercept': [True, False],\n",
    "              'normalize': [True, False],\n",
    "              'max_iter': [100, 500, 1000]}\n",
    "\n",
    "#instantiating the GridSearchCV object \n",
    "grid_search = GridSearchCV(estimator=model, param_grid=param_grid, cv=cv_time, scoring=scorer)\n",
    "\n",
    "#fitting the model to the data \n",
    "grid_search.fit(features_train, target_train)\n",
    "\n",
    "#printing out the best parameters \n",
    "print('Best parameters: {}'.format(grid_search.best_params_))"
   ]
  },
  {
   "cell_type": "code",
   "execution_count": 19,
   "metadata": {},
   "outputs": [
    {
     "name": "stdout",
     "output_type": "stream",
     "text": [
      "Best parameters: {'copy_X': True, 'fit_intercept': True, 'normalize': True}\n"
     ]
    }
   ],
   "source": [
    "#instantiating the model\n",
    "model = LinearRegression()\n",
    "\n",
    "#defining the parameter grid \n",
    "param_grid = {'fit_intercept': [True, False],\n",
    "              'normalize': [True, False],\n",
    "              'copy_X': [True, False]}\n",
    "\n",
    "#instantiating the GridSearchCV object \n",
    "grid_search = GridSearchCV(estimator=model, param_grid=param_grid, cv=cv_time, scoring=scorer)\n",
    "\n",
    "#fitting the model to the data \n",
    "grid_search.fit(features_train, target_train)\n",
    "\n",
    "#printing out the best parameters \n",
    "print('Best parameters: {}'.format(grid_search.best_params_))"
   ]
  },
  {
   "cell_type": "code",
   "execution_count": null,
   "metadata": {},
   "outputs": [],
   "source": [
    "#instantiating the model\n",
    "model = CatBoostRegressor()\n",
    "\n",
    "#defining the parameter grid \n",
    "param_grid = {'depth': [3, 5, 7],\n",
    "              'learning_rate': [0.01, 0.1, 0.2],\n",
    "              'iterations': [50, 100, 200]}\n",
    "\n",
    "#instantiating the GridSearchCV object \n",
    "grid_search = GridSearchCV(estimator=model, param_grid=param_grid, cv=cv_time, scoring=scorer)\n",
    "\n",
    "#fitting the model to the data \n",
    "grid_search.fit(features_train, target_train)\n",
    "\n",
    "#printing out the best parameters \n",
    "print('Best parameters: {}'.format(grid_search.best_params_))"
   ]
  },
  {
   "cell_type": "code",
   "execution_count": 21,
   "metadata": {},
   "outputs": [
    {
     "name": "stdout",
     "output_type": "stream",
     "text": [
      "RMSE:  -31.180894704060233\n"
     ]
    }
   ],
   "source": [
    "rid = Ridge(alpha=0.1, fit_intercept=True, max_iter=100, normalize=True)\n",
    "print('RMSE: ', cross_val_score(rid, features_train, target_train, cv=cv_time, scoring=scorer).mean())"
   ]
  },
  {
   "cell_type": "code",
   "execution_count": 28,
   "metadata": {},
   "outputs": [
    {
     "name": "stdout",
     "output_type": "stream",
     "text": [
      "RMSE:  -31.149976558786914\n"
     ]
    }
   ],
   "source": [
    "lr = LinearRegression(copy_X=True, fit_intercept=True, normalize=True)\n",
    "print('RMSE: ', cross_val_score(lr, features_train, target_train, cv=cv_time, scoring=scorer).mean())"
   ]
  },
  {
   "cell_type": "code",
   "execution_count": 23,
   "metadata": {},
   "outputs": [
    {
     "name": "stdout",
     "output_type": "stream",
     "text": [
      "RMSE:  -27.45268261033658\n"
     ]
    }
   ],
   "source": [
    "cat = CatBoostRegressor(depth=7, iterations=200, learning_rate=0.1, verbose=False)\n",
    "print('RMSE: ', cross_val_score(cat, features_train, target_train, cv=cv_time, scoring=scorer).mean())"
   ]
  },
  {
   "cell_type": "markdown",
   "metadata": {},
   "source": [
    "## Тестирование"
   ]
  },
  {
   "cell_type": "code",
   "execution_count": 31,
   "metadata": {},
   "outputs": [
    {
     "name": "stdout",
     "output_type": "stream",
     "text": [
      "0:\tlearn: 37.0307857\ttotal: 15.5ms\tremaining: 3.09s\n",
      "1:\tlearn: 35.5454732\ttotal: 28.5ms\tremaining: 2.82s\n",
      "2:\tlearn: 34.1611124\ttotal: 41.6ms\tremaining: 2.73s\n",
      "3:\tlearn: 32.9304312\ttotal: 55.4ms\tremaining: 2.71s\n",
      "4:\tlearn: 31.8863871\ttotal: 67.6ms\tremaining: 2.64s\n",
      "5:\tlearn: 30.8774339\ttotal: 80.6ms\tremaining: 2.61s\n",
      "6:\tlearn: 30.0219600\ttotal: 94.1ms\tremaining: 2.6s\n",
      "7:\tlearn: 29.3160917\ttotal: 109ms\tremaining: 2.61s\n",
      "8:\tlearn: 28.6393652\ttotal: 124ms\tremaining: 2.63s\n",
      "9:\tlearn: 28.0163227\ttotal: 141ms\tremaining: 2.68s\n",
      "10:\tlearn: 27.5150699\ttotal: 159ms\tremaining: 2.74s\n",
      "11:\tlearn: 27.1059739\ttotal: 173ms\tremaining: 2.7s\n",
      "12:\tlearn: 26.6980250\ttotal: 186ms\tremaining: 2.67s\n",
      "13:\tlearn: 26.3708980\ttotal: 199ms\tremaining: 2.64s\n",
      "14:\tlearn: 25.9975756\ttotal: 211ms\tremaining: 2.61s\n",
      "15:\tlearn: 25.6512317\ttotal: 231ms\tremaining: 2.65s\n",
      "16:\tlearn: 25.3649003\ttotal: 247ms\tremaining: 2.65s\n",
      "17:\tlearn: 25.1507495\ttotal: 259ms\tremaining: 2.62s\n",
      "18:\tlearn: 24.9172576\ttotal: 272ms\tremaining: 2.59s\n",
      "19:\tlearn: 24.6765623\ttotal: 287ms\tremaining: 2.58s\n",
      "20:\tlearn: 24.4973901\ttotal: 300ms\tremaining: 2.55s\n",
      "21:\tlearn: 24.3314435\ttotal: 313ms\tremaining: 2.53s\n",
      "22:\tlearn: 24.1880273\ttotal: 326ms\tremaining: 2.51s\n",
      "23:\tlearn: 24.0509704\ttotal: 339ms\tremaining: 2.49s\n",
      "24:\tlearn: 23.9688352\ttotal: 351ms\tremaining: 2.46s\n",
      "25:\tlearn: 23.8381398\ttotal: 364ms\tremaining: 2.43s\n",
      "26:\tlearn: 23.8132763\ttotal: 377ms\tremaining: 2.41s\n",
      "27:\tlearn: 23.7003212\ttotal: 389ms\tremaining: 2.39s\n",
      "28:\tlearn: 23.5469157\ttotal: 402ms\tremaining: 2.37s\n",
      "29:\tlearn: 23.4588847\ttotal: 414ms\tremaining: 2.34s\n",
      "30:\tlearn: 23.4051135\ttotal: 426ms\tremaining: 2.32s\n",
      "31:\tlearn: 23.2726964\ttotal: 439ms\tremaining: 2.3s\n",
      "32:\tlearn: 23.2484314\ttotal: 451ms\tremaining: 2.28s\n",
      "33:\tlearn: 23.2173418\ttotal: 463ms\tremaining: 2.26s\n",
      "34:\tlearn: 23.1187332\ttotal: 476ms\tremaining: 2.25s\n",
      "35:\tlearn: 23.1048160\ttotal: 489ms\tremaining: 2.23s\n",
      "36:\tlearn: 23.0707924\ttotal: 500ms\tremaining: 2.2s\n",
      "37:\tlearn: 22.9813173\ttotal: 511ms\tremaining: 2.18s\n",
      "38:\tlearn: 22.9174590\ttotal: 523ms\tremaining: 2.16s\n",
      "39:\tlearn: 22.8188746\ttotal: 535ms\tremaining: 2.14s\n",
      "40:\tlearn: 22.7601516\ttotal: 546ms\tremaining: 2.12s\n",
      "41:\tlearn: 22.6549683\ttotal: 560ms\tremaining: 2.11s\n",
      "42:\tlearn: 22.5499126\ttotal: 573ms\tremaining: 2.09s\n",
      "43:\tlearn: 22.5161584\ttotal: 585ms\tremaining: 2.07s\n",
      "44:\tlearn: 22.3983890\ttotal: 597ms\tremaining: 2.06s\n",
      "45:\tlearn: 22.3118375\ttotal: 609ms\tremaining: 2.04s\n",
      "46:\tlearn: 22.1865880\ttotal: 627ms\tremaining: 2.04s\n",
      "47:\tlearn: 22.1518593\ttotal: 645ms\tremaining: 2.04s\n",
      "48:\tlearn: 22.0746032\ttotal: 663ms\tremaining: 2.04s\n",
      "49:\tlearn: 22.0585766\ttotal: 681ms\tremaining: 2.04s\n",
      "50:\tlearn: 21.9557071\ttotal: 694ms\tremaining: 2.03s\n",
      "51:\tlearn: 21.8738379\ttotal: 707ms\tremaining: 2.01s\n",
      "52:\tlearn: 21.8040293\ttotal: 719ms\tremaining: 2s\n",
      "53:\tlearn: 21.7342739\ttotal: 732ms\tremaining: 1.98s\n",
      "54:\tlearn: 21.6601002\ttotal: 745ms\tremaining: 1.96s\n",
      "55:\tlearn: 21.6262258\ttotal: 758ms\tremaining: 1.95s\n",
      "56:\tlearn: 21.5746026\ttotal: 771ms\tremaining: 1.93s\n",
      "57:\tlearn: 21.5473731\ttotal: 783ms\tremaining: 1.92s\n",
      "58:\tlearn: 21.5142771\ttotal: 797ms\tremaining: 1.9s\n",
      "59:\tlearn: 21.5010092\ttotal: 809ms\tremaining: 1.89s\n",
      "60:\tlearn: 21.4772670\ttotal: 822ms\tremaining: 1.87s\n",
      "61:\tlearn: 21.4623420\ttotal: 833ms\tremaining: 1.85s\n",
      "62:\tlearn: 21.3788536\ttotal: 846ms\tremaining: 1.84s\n",
      "63:\tlearn: 21.2888740\ttotal: 858ms\tremaining: 1.82s\n",
      "64:\tlearn: 21.2354182\ttotal: 870ms\tremaining: 1.81s\n",
      "65:\tlearn: 21.2216813\ttotal: 882ms\tremaining: 1.79s\n",
      "66:\tlearn: 21.1445961\ttotal: 896ms\tremaining: 1.78s\n",
      "67:\tlearn: 21.0996020\ttotal: 908ms\tremaining: 1.76s\n",
      "68:\tlearn: 21.0667693\ttotal: 920ms\tremaining: 1.75s\n",
      "69:\tlearn: 21.0495469\ttotal: 932ms\tremaining: 1.73s\n",
      "70:\tlearn: 21.0362334\ttotal: 944ms\tremaining: 1.72s\n",
      "71:\tlearn: 20.9874812\ttotal: 957ms\tremaining: 1.7s\n",
      "72:\tlearn: 20.9206847\ttotal: 971ms\tremaining: 1.69s\n",
      "73:\tlearn: 20.8790123\ttotal: 984ms\tremaining: 1.68s\n",
      "74:\tlearn: 20.7797701\ttotal: 1000ms\tremaining: 1.67s\n",
      "75:\tlearn: 20.7397498\ttotal: 1.01s\tremaining: 1.65s\n",
      "76:\tlearn: 20.6889141\ttotal: 1.02s\tremaining: 1.64s\n",
      "77:\tlearn: 20.5939541\ttotal: 1.04s\tremaining: 1.62s\n",
      "78:\tlearn: 20.4865276\ttotal: 1.05s\tremaining: 1.61s\n",
      "79:\tlearn: 20.4428660\ttotal: 1.06s\tremaining: 1.6s\n",
      "80:\tlearn: 20.3722220\ttotal: 1.08s\tremaining: 1.58s\n",
      "81:\tlearn: 20.2871335\ttotal: 1.09s\tremaining: 1.57s\n",
      "82:\tlearn: 20.2010078\ttotal: 1.1s\tremaining: 1.55s\n",
      "83:\tlearn: 20.1567996\ttotal: 1.12s\tremaining: 1.54s\n",
      "84:\tlearn: 20.0691857\ttotal: 1.13s\tremaining: 1.53s\n",
      "85:\tlearn: 20.0152865\ttotal: 1.14s\tremaining: 1.52s\n",
      "86:\tlearn: 19.9605673\ttotal: 1.16s\tremaining: 1.5s\n",
      "87:\tlearn: 19.8601711\ttotal: 1.17s\tremaining: 1.49s\n",
      "88:\tlearn: 19.7758108\ttotal: 1.18s\tremaining: 1.47s\n",
      "89:\tlearn: 19.7130827\ttotal: 1.2s\tremaining: 1.46s\n",
      "90:\tlearn: 19.6611182\ttotal: 1.21s\tremaining: 1.45s\n",
      "91:\tlearn: 19.5878644\ttotal: 1.22s\tremaining: 1.43s\n",
      "92:\tlearn: 19.5122274\ttotal: 1.23s\tremaining: 1.42s\n",
      "93:\tlearn: 19.4866953\ttotal: 1.25s\tremaining: 1.41s\n",
      "94:\tlearn: 19.4183099\ttotal: 1.26s\tremaining: 1.39s\n",
      "95:\tlearn: 19.3735156\ttotal: 1.27s\tremaining: 1.38s\n",
      "96:\tlearn: 19.3182715\ttotal: 1.28s\tremaining: 1.36s\n",
      "97:\tlearn: 19.2348085\ttotal: 1.3s\tremaining: 1.35s\n",
      "98:\tlearn: 19.1589876\ttotal: 1.31s\tremaining: 1.34s\n",
      "99:\tlearn: 19.1240152\ttotal: 1.32s\tremaining: 1.32s\n",
      "100:\tlearn: 19.0430205\ttotal: 1.34s\tremaining: 1.31s\n",
      "101:\tlearn: 18.9789378\ttotal: 1.35s\tremaining: 1.29s\n",
      "102:\tlearn: 18.9052479\ttotal: 1.36s\tremaining: 1.28s\n",
      "103:\tlearn: 18.8667066\ttotal: 1.38s\tremaining: 1.27s\n",
      "104:\tlearn: 18.7813919\ttotal: 1.39s\tremaining: 1.26s\n",
      "105:\tlearn: 18.7252994\ttotal: 1.41s\tremaining: 1.25s\n",
      "106:\tlearn: 18.6772559\ttotal: 1.43s\tremaining: 1.24s\n",
      "107:\tlearn: 18.5966372\ttotal: 1.44s\tremaining: 1.23s\n",
      "108:\tlearn: 18.5364887\ttotal: 1.45s\tremaining: 1.21s\n",
      "109:\tlearn: 18.5319593\ttotal: 1.47s\tremaining: 1.2s\n",
      "110:\tlearn: 18.4759545\ttotal: 1.48s\tremaining: 1.19s\n",
      "111:\tlearn: 18.4083684\ttotal: 1.5s\tremaining: 1.18s\n",
      "112:\tlearn: 18.3314877\ttotal: 1.52s\tremaining: 1.17s\n",
      "113:\tlearn: 18.2747734\ttotal: 1.54s\tremaining: 1.16s\n",
      "114:\tlearn: 18.2282431\ttotal: 1.56s\tremaining: 1.15s\n",
      "115:\tlearn: 18.1701803\ttotal: 1.58s\tremaining: 1.14s\n",
      "116:\tlearn: 18.0982644\ttotal: 1.59s\tremaining: 1.13s\n",
      "117:\tlearn: 18.0488720\ttotal: 1.62s\tremaining: 1.13s\n",
      "118:\tlearn: 18.0001946\ttotal: 1.64s\tremaining: 1.11s\n",
      "119:\tlearn: 17.9377404\ttotal: 1.66s\tremaining: 1.11s\n",
      "120:\tlearn: 17.9070920\ttotal: 1.67s\tremaining: 1.09s\n",
      "121:\tlearn: 17.8843386\ttotal: 1.69s\tremaining: 1.08s\n",
      "122:\tlearn: 17.8228321\ttotal: 1.7s\tremaining: 1.06s\n",
      "123:\tlearn: 17.7738623\ttotal: 1.71s\tremaining: 1.05s\n",
      "124:\tlearn: 17.7280396\ttotal: 1.73s\tremaining: 1.03s\n",
      "125:\tlearn: 17.6852650\ttotal: 1.74s\tremaining: 1.02s\n",
      "126:\tlearn: 17.6384976\ttotal: 1.76s\tremaining: 1.01s\n",
      "127:\tlearn: 17.5751342\ttotal: 1.77s\tremaining: 998ms\n",
      "128:\tlearn: 17.5113144\ttotal: 1.79s\tremaining: 983ms\n",
      "129:\tlearn: 17.4826292\ttotal: 1.8s\tremaining: 969ms\n",
      "130:\tlearn: 17.4133165\ttotal: 1.82s\tremaining: 959ms\n",
      "131:\tlearn: 17.3672315\ttotal: 1.84s\tremaining: 948ms\n",
      "132:\tlearn: 17.3120744\ttotal: 1.86s\tremaining: 936ms\n",
      "133:\tlearn: 17.2511216\ttotal: 1.88s\tremaining: 924ms\n",
      "134:\tlearn: 17.1955679\ttotal: 1.89s\tremaining: 911ms\n",
      "135:\tlearn: 17.1333318\ttotal: 1.91s\tremaining: 898ms\n",
      "136:\tlearn: 17.0884196\ttotal: 1.92s\tremaining: 884ms\n",
      "137:\tlearn: 17.0365607\ttotal: 1.94s\tremaining: 871ms\n",
      "138:\tlearn: 17.0062205\ttotal: 1.95s\tremaining: 857ms\n",
      "139:\tlearn: 16.9757547\ttotal: 1.97s\tremaining: 844ms\n",
      "140:\tlearn: 16.9430703\ttotal: 1.98s\tremaining: 831ms\n",
      "141:\tlearn: 16.9011136\ttotal: 2s\tremaining: 817ms\n",
      "142:\tlearn: 16.8425428\ttotal: 2.02s\tremaining: 804ms\n",
      "143:\tlearn: 16.7905720\ttotal: 2.03s\tremaining: 789ms\n",
      "144:\tlearn: 16.7186109\ttotal: 2.04s\tremaining: 775ms\n",
      "145:\tlearn: 16.6655183\ttotal: 2.06s\tremaining: 760ms\n",
      "146:\tlearn: 16.6217806\ttotal: 2.07s\tremaining: 746ms\n",
      "147:\tlearn: 16.5883767\ttotal: 2.08s\tremaining: 731ms\n",
      "148:\tlearn: 16.5504516\ttotal: 2.09s\tremaining: 717ms\n",
      "149:\tlearn: 16.4971492\ttotal: 2.11s\tremaining: 703ms\n",
      "150:\tlearn: 16.4330046\ttotal: 2.12s\tremaining: 689ms\n",
      "151:\tlearn: 16.3933058\ttotal: 2.14s\tremaining: 675ms\n",
      "152:\tlearn: 16.3471603\ttotal: 2.15s\tremaining: 661ms\n",
      "153:\tlearn: 16.2930761\ttotal: 2.16s\tremaining: 646ms\n",
      "154:\tlearn: 16.2399361\ttotal: 2.18s\tremaining: 633ms\n",
      "155:\tlearn: 16.1961229\ttotal: 2.19s\tremaining: 619ms\n",
      "156:\tlearn: 16.1587076\ttotal: 2.21s\tremaining: 605ms\n",
      "157:\tlearn: 16.1070927\ttotal: 2.22s\tremaining: 590ms\n",
      "158:\tlearn: 16.0335291\ttotal: 2.23s\tremaining: 576ms\n",
      "159:\tlearn: 16.0020142\ttotal: 2.25s\tremaining: 562ms\n",
      "160:\tlearn: 15.9992930\ttotal: 2.26s\tremaining: 547ms\n",
      "161:\tlearn: 15.9528219\ttotal: 2.27s\tremaining: 533ms\n",
      "162:\tlearn: 15.8938242\ttotal: 2.28s\tremaining: 518ms\n",
      "163:\tlearn: 15.8442182\ttotal: 2.29s\tremaining: 504ms\n",
      "164:\tlearn: 15.8417325\ttotal: 2.31s\tremaining: 489ms\n",
      "165:\tlearn: 15.8199370\ttotal: 2.32s\tremaining: 475ms\n",
      "166:\tlearn: 15.7776359\ttotal: 2.33s\tremaining: 461ms\n",
      "167:\tlearn: 15.7307031\ttotal: 2.35s\tremaining: 447ms\n",
      "168:\tlearn: 15.7054295\ttotal: 2.36s\tremaining: 433ms\n",
      "169:\tlearn: 15.6491724\ttotal: 2.37s\tremaining: 418ms\n",
      "170:\tlearn: 15.6171059\ttotal: 2.38s\tremaining: 404ms\n",
      "171:\tlearn: 15.5832180\ttotal: 2.4s\tremaining: 390ms\n",
      "172:\tlearn: 15.5666281\ttotal: 2.41s\tremaining: 376ms\n",
      "173:\tlearn: 15.5267528\ttotal: 2.42s\tremaining: 362ms\n",
      "174:\tlearn: 15.4903332\ttotal: 2.44s\tremaining: 348ms\n",
      "175:\tlearn: 15.4644951\ttotal: 2.45s\tremaining: 334ms\n",
      "176:\tlearn: 15.4432794\ttotal: 2.46s\tremaining: 320ms\n",
      "177:\tlearn: 15.4165636\ttotal: 2.47s\tremaining: 305ms\n",
      "178:\tlearn: 15.3671903\ttotal: 2.48s\tremaining: 292ms\n",
      "179:\tlearn: 15.3443639\ttotal: 2.5s\tremaining: 277ms\n",
      "180:\tlearn: 15.3416658\ttotal: 2.51s\tremaining: 264ms\n",
      "181:\tlearn: 15.2882369\ttotal: 2.53s\tremaining: 250ms\n",
      "182:\tlearn: 15.2529713\ttotal: 2.55s\tremaining: 237ms\n",
      "183:\tlearn: 15.2070159\ttotal: 2.57s\tremaining: 223ms\n",
      "184:\tlearn: 15.1727213\ttotal: 2.58s\tremaining: 210ms\n",
      "185:\tlearn: 15.1502298\ttotal: 2.6s\tremaining: 196ms\n",
      "186:\tlearn: 15.1117683\ttotal: 2.62s\tremaining: 182ms\n",
      "187:\tlearn: 15.0731289\ttotal: 2.64s\tremaining: 169ms\n",
      "188:\tlearn: 15.0308913\ttotal: 2.66s\tremaining: 155ms\n",
      "189:\tlearn: 14.9872479\ttotal: 2.67s\tremaining: 141ms\n",
      "190:\tlearn: 14.9312202\ttotal: 2.69s\tremaining: 127ms\n",
      "191:\tlearn: 14.9108650\ttotal: 2.7s\tremaining: 112ms\n",
      "192:\tlearn: 14.8857749\ttotal: 2.71s\tremaining: 98.4ms\n",
      "193:\tlearn: 14.8392255\ttotal: 2.72s\tremaining: 84.3ms\n",
      "194:\tlearn: 14.8012937\ttotal: 2.74s\tremaining: 70.2ms\n",
      "195:\tlearn: 14.7640633\ttotal: 2.75s\tremaining: 56.1ms\n",
      "196:\tlearn: 14.7398499\ttotal: 2.77s\tremaining: 42.1ms\n",
      "197:\tlearn: 14.7348069\ttotal: 2.78s\tremaining: 28.1ms\n",
      "198:\tlearn: 14.7057518\ttotal: 2.79s\tremaining: 14ms\n",
      "199:\tlearn: 14.6814930\ttotal: 2.8s\tremaining: 0us\n",
      "CPU times: user 2.9 s, sys: 26.5 ms, total: 2.93 s\n",
      "Wall time: 3.38 s\n"
     ]
    },
    {
     "data": {
      "text/plain": [
       "<catboost.core.CatBoostRegressor at 0x7f9af14854c0>"
      ]
     },
     "execution_count": 31,
     "metadata": {},
     "output_type": "execute_result"
    }
   ],
   "source": [
    "%%time\n",
    "cat = CatBoostRegressor(depth=7, iterations=200, learning_rate=0.1)\n",
    "cat.fit(features_train, target_train)"
   ]
  },
  {
   "cell_type": "code",
   "execution_count": 32,
   "metadata": {},
   "outputs": [
    {
     "name": "stdout",
     "output_type": "stream",
     "text": [
      "RMSE:  14.68149295021938\n",
      "CPU times: user 3.36 ms, sys: 3.95 ms, total: 7.31 ms\n",
      "Wall time: 4.51 ms\n"
     ]
    }
   ],
   "source": [
    "%%time\n",
    "print('RMSE: ', root_mean_squared_error(target_train, cat.predict(features_train)))"
   ]
  },
  {
   "cell_type": "code",
   "execution_count": 33,
   "metadata": {
    "scrolled": true
   },
   "outputs": [
    {
     "name": "stdout",
     "output_type": "stream",
     "text": [
      "RMSE:  40.88750697946893\n"
     ]
    }
   ],
   "source": [
    "print('RMSE: ', root_mean_squared_error(target_test, cat.predict(features_test)))"
   ]
  },
  {
   "cell_type": "code",
   "execution_count": null,
   "metadata": {},
   "outputs": [],
   "source": [
    "pred = cat.predict(features_test)\n",
    "plt.figure(figsize=(15,10))\n",
    "plt.plot(target_test.index, target_test)\n",
    "plt.plot(target_test.index, pred)\n",
    "plt.show()"
   ]
  },
  {
   "cell_type": "markdown",
   "metadata": {},
   "source": [
    "## Вывод"
   ]
  },
  {
   "cell_type": "markdown",
   "metadata": {},
   "source": [
    "В ходы выполнения проекта был изучен временной ряд, его сезонность и тренд.<br>\n",
    "Трендом является, то, что количество заказов растёт в течение года.<br>\n",
    "Сезонностью является, то, что количество заказов имеет период в 1 день, где в 00:00 является пиком, который идёт на спад до 06:00, достигая минимума за день, далее идёт подъём до 09:00, далее функция, то возрастает, то убывает до 18:00, после чего возрастает до 00:00<br>\n",
    "Был обучено несколько моделей, среди которых, лучшей показал себя catboostRegressor(depth=7, iterations=200, learning_rate=0.1).<br>\n",
    "Время обучения: 3.38 sec<br>\n",
    "Время предсказания: 4.51 ms<br>\n",
    "RMSE: 40.88"
   ]
  },
  {
   "cell_type": "markdown",
   "metadata": {},
   "source": [
    "## Чек-лист проверки"
   ]
  },
  {
   "cell_type": "markdown",
   "metadata": {},
   "source": [
    "- [x]  Jupyter Notebook открыт\n",
    "- [x]  Весь код выполняется без ошибок\n",
    "- [x]  Ячейки с кодом расположены в порядке исполнения\n",
    "- [x]  Данные загружены и подготовлены\n",
    "- [x]  Данные проанализированы\n",
    "- [x]  Модель обучена, гиперпараметры подобраны\n",
    "- [x]  Качество моделей проверено, выводы сделаны\n",
    "- [x]  Значение *RMSE* на тестовой выборке не больше 48"
   ]
  }
 ],
 "metadata": {
  "ExecuteTimeLog": [
   {
    "duration": 372,
    "start_time": "2023-02-20T09:28:44.458Z"
   },
   {
    "duration": 102,
    "start_time": "2023-02-20T09:29:03.864Z"
   },
   {
    "duration": 43,
    "start_time": "2023-02-20T09:29:26.666Z"
   },
   {
    "duration": 135,
    "start_time": "2023-02-20T09:30:57.310Z"
   },
   {
    "duration": 15,
    "start_time": "2023-02-20T09:31:12.475Z"
   },
   {
    "duration": 42,
    "start_time": "2023-02-20T09:31:50.673Z"
   },
   {
    "duration": 7,
    "start_time": "2023-02-20T09:31:51.541Z"
   },
   {
    "duration": 42,
    "start_time": "2023-02-20T09:32:46.078Z"
   },
   {
    "duration": 6,
    "start_time": "2023-02-20T09:32:47.198Z"
   },
   {
    "duration": 11,
    "start_time": "2023-02-20T09:32:59.534Z"
   },
   {
    "duration": 1138,
    "start_time": "2023-02-20T09:33:26.320Z"
   },
   {
    "duration": 428,
    "start_time": "2023-02-20T16:24:26.433Z"
   },
   {
    "duration": 213,
    "start_time": "2023-02-20T16:24:30.122Z"
   },
   {
    "duration": 14,
    "start_time": "2023-02-20T16:24:30.337Z"
   },
   {
    "duration": 18,
    "start_time": "2023-02-20T16:24:30.354Z"
   },
   {
    "duration": 1094,
    "start_time": "2023-02-20T16:24:30.373Z"
   },
   {
    "duration": 5,
    "start_time": "2023-02-20T16:26:46.502Z"
   },
   {
    "duration": 23082,
    "start_time": "2023-02-20T16:26:48.139Z"
   },
   {
    "duration": 24276,
    "start_time": "2023-02-20T16:27:12.073Z"
   },
   {
    "duration": 3,
    "start_time": "2023-02-20T16:27:39.558Z"
   },
   {
    "duration": 45,
    "start_time": "2023-02-20T16:27:39.939Z"
   },
   {
    "duration": 6,
    "start_time": "2023-02-20T16:27:40.121Z"
   },
   {
    "duration": 9,
    "start_time": "2023-02-20T16:27:40.314Z"
   },
   {
    "duration": 2,
    "start_time": "2023-02-20T16:27:40.971Z"
   },
   {
    "duration": 0,
    "start_time": "2023-02-20T16:28:33.535Z"
   },
   {
    "duration": 0,
    "start_time": "2023-02-20T16:28:33.537Z"
   },
   {
    "duration": 0,
    "start_time": "2023-02-20T16:28:33.538Z"
   },
   {
    "duration": 0,
    "start_time": "2023-02-20T16:28:33.548Z"
   },
   {
    "duration": 0,
    "start_time": "2023-02-20T16:28:33.549Z"
   },
   {
    "duration": 0,
    "start_time": "2023-02-20T16:28:33.550Z"
   },
   {
    "duration": 3,
    "start_time": "2023-02-20T16:28:36.118Z"
   },
   {
    "duration": 47,
    "start_time": "2023-02-20T16:28:36.753Z"
   },
   {
    "duration": 6,
    "start_time": "2023-02-20T16:28:37.117Z"
   },
   {
    "duration": 10,
    "start_time": "2023-02-20T16:28:37.846Z"
   },
   {
    "duration": 4,
    "start_time": "2023-02-20T16:28:38.523Z"
   },
   {
    "duration": 665,
    "start_time": "2023-02-20T16:28:38.966Z"
   },
   {
    "duration": 400,
    "start_time": "2023-02-20T16:39:13.072Z"
   },
   {
    "duration": 43,
    "start_time": "2023-02-20T16:39:57.946Z"
   },
   {
    "duration": 10,
    "start_time": "2023-02-20T16:40:08.414Z"
   },
   {
    "duration": 10,
    "start_time": "2023-02-20T16:40:16.040Z"
   },
   {
    "duration": 54,
    "start_time": "2023-02-20T16:40:41.708Z"
   },
   {
    "duration": 7,
    "start_time": "2023-02-20T16:40:41.909Z"
   },
   {
    "duration": 11,
    "start_time": "2023-02-20T16:40:42.148Z"
   },
   {
    "duration": 51,
    "start_time": "2023-02-20T16:40:47.596Z"
   },
   {
    "duration": 45,
    "start_time": "2023-02-20T16:41:00.946Z"
   },
   {
    "duration": 9,
    "start_time": "2023-02-20T16:41:01.259Z"
   },
   {
    "duration": 10,
    "start_time": "2023-02-20T16:41:01.582Z"
   },
   {
    "duration": 2,
    "start_time": "2023-02-20T16:41:43.112Z"
   },
   {
    "duration": 46,
    "start_time": "2023-02-20T16:41:43.841Z"
   },
   {
    "duration": 7,
    "start_time": "2023-02-20T16:41:44.472Z"
   },
   {
    "duration": 10,
    "start_time": "2023-02-20T16:41:46.766Z"
   },
   {
    "duration": 13,
    "start_time": "2023-02-20T16:41:47.281Z"
   },
   {
    "duration": 571,
    "start_time": "2023-02-20T16:41:47.860Z"
   },
   {
    "duration": 9,
    "start_time": "2023-02-20T16:41:58.024Z"
   },
   {
    "duration": 174,
    "start_time": "2023-02-20T16:45:37.378Z"
   },
   {
    "duration": 200,
    "start_time": "2023-02-20T16:45:48.529Z"
   },
   {
    "duration": 1127,
    "start_time": "2023-02-20T16:45:55.654Z"
   },
   {
    "duration": 10,
    "start_time": "2023-02-20T16:46:24.597Z"
   },
   {
    "duration": 813,
    "start_time": "2023-02-20T16:46:29.400Z"
   },
   {
    "duration": 30,
    "start_time": "2023-02-20T16:46:36.113Z"
   },
   {
    "duration": 814,
    "start_time": "2023-02-20T16:46:41.980Z"
   },
   {
    "duration": 778,
    "start_time": "2023-02-20T16:46:57.548Z"
   },
   {
    "duration": 6,
    "start_time": "2023-02-20T16:47:42.214Z"
   },
   {
    "duration": 836,
    "start_time": "2023-02-20T16:47:50.209Z"
   },
   {
    "duration": 48,
    "start_time": "2023-02-20T16:47:51.807Z"
   },
   {
    "duration": 14,
    "start_time": "2023-02-20T16:47:52.110Z"
   },
   {
    "duration": 10,
    "start_time": "2023-02-20T16:47:52.546Z"
   },
   {
    "duration": 8,
    "start_time": "2023-02-20T16:47:53.690Z"
   },
   {
    "duration": 450,
    "start_time": "2023-02-20T16:47:54.995Z"
   },
   {
    "duration": 868,
    "start_time": "2023-02-20T16:47:58.711Z"
   },
   {
    "duration": 859,
    "start_time": "2023-02-20T16:48:20.942Z"
   },
   {
    "duration": 48,
    "start_time": "2023-02-20T16:48:24.411Z"
   },
   {
    "duration": 12,
    "start_time": "2023-02-20T16:48:24.461Z"
   },
   {
    "duration": 31,
    "start_time": "2023-02-20T16:48:24.474Z"
   },
   {
    "duration": 11,
    "start_time": "2023-02-20T16:48:24.506Z"
   },
   {
    "duration": 423,
    "start_time": "2023-02-20T16:48:24.518Z"
   },
   {
    "duration": 964,
    "start_time": "2023-02-20T16:48:24.943Z"
   },
   {
    "duration": 7,
    "start_time": "2023-02-20T16:49:03.598Z"
   },
   {
    "duration": 276,
    "start_time": "2023-02-20T16:50:40.916Z"
   },
   {
    "duration": 242,
    "start_time": "2023-02-20T16:50:49.727Z"
   },
   {
    "duration": 231,
    "start_time": "2023-02-20T16:50:59.388Z"
   },
   {
    "duration": 140,
    "start_time": "2023-02-20T16:51:16.893Z"
   },
   {
    "duration": 7,
    "start_time": "2023-02-20T16:52:04.163Z"
   },
   {
    "duration": 219,
    "start_time": "2023-02-20T16:58:16.067Z"
   },
   {
    "duration": 118,
    "start_time": "2023-02-20T17:01:52.520Z"
   },
   {
    "duration": 1539,
    "start_time": "2023-02-20T17:02:53.410Z"
   },
   {
    "duration": 109,
    "start_time": "2023-02-20T17:03:09.714Z"
   },
   {
    "duration": 4,
    "start_time": "2023-02-20T17:03:20.830Z"
   },
   {
    "duration": 14,
    "start_time": "2023-02-20T17:03:24.155Z"
   },
   {
    "duration": 135,
    "start_time": "2023-02-20T17:03:27.901Z"
   },
   {
    "duration": 136,
    "start_time": "2023-02-20T17:04:38.863Z"
   },
   {
    "duration": 15,
    "start_time": "2023-02-20T17:05:17.496Z"
   },
   {
    "duration": 122,
    "start_time": "2023-02-20T17:05:24.315Z"
   },
   {
    "duration": 3,
    "start_time": "2023-02-20T17:06:53.360Z"
   },
   {
    "duration": 221,
    "start_time": "2023-02-20T17:07:40.756Z"
   },
   {
    "duration": 213,
    "start_time": "2023-02-20T17:08:53.538Z"
   },
   {
    "duration": 13,
    "start_time": "2023-02-20T17:09:11.173Z"
   },
   {
    "duration": 59,
    "start_time": "2023-02-20T17:09:22.495Z"
   },
   {
    "duration": 136,
    "start_time": "2023-02-20T17:09:24.385Z"
   },
   {
    "duration": 119,
    "start_time": "2023-02-20T17:09:42.535Z"
   },
   {
    "duration": 1530,
    "start_time": "2023-02-20T17:09:53.818Z"
   },
   {
    "duration": 1437,
    "start_time": "2023-02-20T17:10:01.914Z"
   },
   {
    "duration": 10,
    "start_time": "2023-02-20T17:10:17.638Z"
   },
   {
    "duration": 5,
    "start_time": "2023-02-20T17:10:22.536Z"
   },
   {
    "duration": 122,
    "start_time": "2023-02-20T17:11:00.670Z"
   },
   {
    "duration": 8,
    "start_time": "2023-02-20T17:11:26.896Z"
   },
   {
    "duration": 1793,
    "start_time": "2023-02-20T17:11:57.656Z"
   },
   {
    "duration": 117,
    "start_time": "2023-02-20T17:12:02.553Z"
   },
   {
    "duration": 10,
    "start_time": "2023-02-20T17:31:42.630Z"
   },
   {
    "duration": 12,
    "start_time": "2023-02-20T17:31:45.899Z"
   },
   {
    "duration": 2085,
    "start_time": "2023-02-20T17:31:50.178Z"
   },
   {
    "duration": 5,
    "start_time": "2023-02-20T17:42:25.358Z"
   },
   {
    "duration": 14,
    "start_time": "2023-02-20T17:43:50.562Z"
   },
   {
    "duration": 10,
    "start_time": "2023-02-20T17:53:36.535Z"
   },
   {
    "duration": 12,
    "start_time": "2023-02-20T17:54:09.861Z"
   },
   {
    "duration": 4,
    "start_time": "2023-02-20T18:04:28.303Z"
   },
   {
    "duration": 789,
    "start_time": "2023-02-20T18:05:00.302Z"
   },
   {
    "duration": 5,
    "start_time": "2023-02-20T18:06:01.999Z"
   },
   {
    "duration": 18,
    "start_time": "2023-02-20T18:06:02.540Z"
   },
   {
    "duration": 1314,
    "start_time": "2023-02-20T18:26:41.256Z"
   },
   {
    "duration": 48,
    "start_time": "2023-02-20T18:26:42.571Z"
   },
   {
    "duration": 10,
    "start_time": "2023-02-20T18:26:42.620Z"
   },
   {
    "duration": 9,
    "start_time": "2023-02-20T18:26:42.632Z"
   },
   {
    "duration": 9,
    "start_time": "2023-02-20T18:26:45.573Z"
   },
   {
    "duration": 213,
    "start_time": "2023-02-20T18:26:45.584Z"
   },
   {
    "duration": 7,
    "start_time": "2023-02-20T18:26:45.798Z"
   },
   {
    "duration": 141,
    "start_time": "2023-02-20T18:26:45.807Z"
   },
   {
    "duration": 7,
    "start_time": "2023-02-20T18:26:45.950Z"
   },
   {
    "duration": 926,
    "start_time": "2023-02-20T18:26:45.959Z"
   },
   {
    "duration": 144,
    "start_time": "2023-02-20T18:26:46.886Z"
   },
   {
    "duration": 1917,
    "start_time": "2023-02-20T18:26:47.032Z"
   },
   {
    "duration": 3,
    "start_time": "2023-02-20T18:26:52.157Z"
   },
   {
    "duration": 20,
    "start_time": "2023-02-20T18:26:52.539Z"
   },
   {
    "duration": 105,
    "start_time": "2023-02-20T19:49:32.007Z"
   },
   {
    "duration": 150,
    "start_time": "2023-02-20T19:50:11.794Z"
   },
   {
    "duration": 21415,
    "start_time": "2023-02-20T19:50:28.067Z"
   },
   {
    "duration": 3,
    "start_time": "2023-02-20T19:54:14.259Z"
   },
   {
    "duration": 12,
    "start_time": "2023-02-20T19:54:21.331Z"
   },
   {
    "duration": 4,
    "start_time": "2023-02-20T19:54:29.776Z"
   },
   {
    "duration": 3,
    "start_time": "2023-02-20T19:54:35.789Z"
   },
   {
    "duration": 24469,
    "start_time": "2023-02-20T19:54:56.686Z"
   },
   {
    "duration": 95,
    "start_time": "2023-02-20T19:55:21.157Z"
   },
   {
    "duration": 5,
    "start_time": "2023-02-20T19:55:51.092Z"
   },
   {
    "duration": 2329,
    "start_time": "2023-02-20T19:55:56.120Z"
   },
   {
    "duration": 108411,
    "start_time": "2023-02-20T19:57:16.320Z"
   },
   {
    "duration": 13,
    "start_time": "2023-02-20T20:01:28.339Z"
   },
   {
    "duration": 16,
    "start_time": "2023-02-20T20:04:50.572Z"
   },
   {
    "duration": 17,
    "start_time": "2023-02-20T20:06:24.996Z"
   },
   {
    "duration": 1888,
    "start_time": "2023-02-20T20:07:30.265Z"
   },
   {
    "duration": 1637,
    "start_time": "2023-02-20T20:08:48.973Z"
   },
   {
    "duration": 6,
    "start_time": "2023-02-20T20:08:50.612Z"
   },
   {
    "duration": 5,
    "start_time": "2023-02-20T20:08:52.446Z"
   },
   {
    "duration": 14,
    "start_time": "2023-02-20T20:09:27.106Z"
   },
   {
    "duration": 3336,
    "start_time": "2023-02-20T20:09:32.923Z"
   },
   {
    "duration": 1515,
    "start_time": "2023-02-20T20:13:20.844Z"
   },
   {
    "duration": 51,
    "start_time": "2023-02-20T20:13:22.360Z"
   },
   {
    "duration": 12,
    "start_time": "2023-02-20T20:13:22.413Z"
   },
   {
    "duration": 21,
    "start_time": "2023-02-20T20:13:22.428Z"
   },
   {
    "duration": 12,
    "start_time": "2023-02-20T20:13:22.451Z"
   },
   {
    "duration": 316,
    "start_time": "2023-02-20T20:13:22.466Z"
   },
   {
    "duration": 7,
    "start_time": "2023-02-20T20:13:22.784Z"
   },
   {
    "duration": 263,
    "start_time": "2023-02-20T20:13:22.794Z"
   },
   {
    "duration": 9,
    "start_time": "2023-02-20T20:13:23.059Z"
   },
   {
    "duration": 1046,
    "start_time": "2023-02-20T20:13:23.071Z"
   },
   {
    "duration": 192,
    "start_time": "2023-02-20T20:13:24.119Z"
   },
   {
    "duration": 2647,
    "start_time": "2023-02-20T20:13:24.313Z"
   },
   {
    "duration": 9,
    "start_time": "2023-02-20T20:13:27.048Z"
   },
   {
    "duration": 142,
    "start_time": "2023-02-20T20:13:27.060Z"
   },
   {
    "duration": 33,
    "start_time": "2023-02-20T20:13:27.203Z"
   },
   {
    "duration": 43,
    "start_time": "2023-02-20T20:13:27.237Z"
   },
   {
    "duration": 22478,
    "start_time": "2023-02-20T20:13:27.281Z"
   },
   {
    "duration": 2898,
    "start_time": "2023-02-20T20:13:49.762Z"
   },
   {
    "duration": 109767,
    "start_time": "2023-02-20T20:13:52.663Z"
   },
   {
    "duration": 21,
    "start_time": "2023-02-20T20:15:42.432Z"
   },
   {
    "duration": 216,
    "start_time": "2023-02-20T20:15:42.455Z"
   },
   {
    "duration": 1572,
    "start_time": "2023-02-20T20:15:42.673Z"
   },
   {
    "duration": 1571,
    "start_time": "2023-02-20T20:15:44.246Z"
   },
   {
    "duration": 6,
    "start_time": "2023-02-20T20:15:45.819Z"
   },
   {
    "duration": 12,
    "start_time": "2023-02-20T20:15:45.827Z"
   },
   {
    "duration": 1882,
    "start_time": "2023-02-21T08:24:10.675Z"
   },
   {
    "duration": 6,
    "start_time": "2023-02-21T08:25:26.710Z"
   },
   {
    "duration": 1547,
    "start_time": "2023-02-21T08:26:04.220Z"
   },
   {
    "duration": 141,
    "start_time": "2023-02-21T08:26:05.769Z"
   },
   {
    "duration": 11,
    "start_time": "2023-02-21T08:26:05.912Z"
   },
   {
    "duration": 11,
    "start_time": "2023-02-21T08:26:05.925Z"
   },
   {
    "duration": 8,
    "start_time": "2023-02-21T08:26:05.938Z"
   },
   {
    "duration": 263,
    "start_time": "2023-02-21T08:26:05.948Z"
   },
   {
    "duration": 8,
    "start_time": "2023-02-21T08:26:06.213Z"
   },
   {
    "duration": 303,
    "start_time": "2023-02-21T08:26:06.223Z"
   },
   {
    "duration": 11,
    "start_time": "2023-02-21T08:26:06.529Z"
   },
   {
    "duration": 1000,
    "start_time": "2023-02-21T08:26:07.009Z"
   },
   {
    "duration": 169,
    "start_time": "2023-02-21T08:26:08.011Z"
   },
   {
    "duration": 4839,
    "start_time": "2023-02-21T08:26:12.638Z"
   },
   {
    "duration": 14,
    "start_time": "2023-02-21T08:26:17.558Z"
   },
   {
    "duration": 25,
    "start_time": "2023-02-21T08:26:21.176Z"
   },
   {
    "duration": 20,
    "start_time": "2023-02-21T08:26:31.587Z"
   },
   {
    "duration": 3,
    "start_time": "2023-02-21T08:26:32.814Z"
   },
   {
    "duration": 6,
    "start_time": "2023-02-21T08:26:33.245Z"
   },
   {
    "duration": 4,
    "start_time": "2023-02-21T08:27:13.011Z"
   },
   {
    "duration": 912,
    "start_time": "2023-02-21T08:27:20.289Z"
   },
   {
    "duration": 102,
    "start_time": "2023-02-21T08:29:27.854Z"
   },
   {
    "duration": 187,
    "start_time": "2023-02-21T08:30:04.872Z"
   },
   {
    "duration": 8,
    "start_time": "2023-02-21T08:42:55.216Z"
   },
   {
    "duration": 4,
    "start_time": "2023-02-21T08:43:03.511Z"
   },
   {
    "duration": 33,
    "start_time": "2023-02-21T08:43:05.625Z"
   },
   {
    "duration": 24,
    "start_time": "2023-02-21T08:43:06.262Z"
   },
   {
    "duration": 4,
    "start_time": "2023-02-21T08:43:16.579Z"
   },
   {
    "duration": 16,
    "start_time": "2023-02-21T08:43:16.586Z"
   },
   {
    "duration": 11,
    "start_time": "2023-02-21T08:43:16.604Z"
   },
   {
    "duration": 24851,
    "start_time": "2023-02-21T08:43:16.617Z"
   },
   {
    "duration": 4810,
    "start_time": "2023-02-21T08:43:41.549Z"
   },
   {
    "duration": 45371,
    "start_time": "2023-02-21T08:43:46.361Z"
   },
   {
    "duration": 115585,
    "start_time": "2023-02-21T08:44:33.162Z"
   },
   {
    "duration": 3,
    "start_time": "2023-02-21T08:52:31.022Z"
   },
   {
    "duration": 370,
    "start_time": "2023-02-21T08:54:23.993Z"
   },
   {
    "duration": 245,
    "start_time": "2023-02-21T08:54:25.706Z"
   },
   {
    "duration": 7466,
    "start_time": "2023-02-21T08:54:26.898Z"
   },
   {
    "duration": 7095,
    "start_time": "2023-02-21T08:54:47.400Z"
   },
   {
    "duration": 7718,
    "start_time": "2023-02-21T08:54:56.120Z"
   },
   {
    "duration": 180,
    "start_time": "2023-02-21T08:56:38.086Z"
   },
   {
    "duration": 112,
    "start_time": "2023-02-21T08:56:45.271Z"
   },
   {
    "duration": 1724,
    "start_time": "2023-02-21T08:56:48.909Z"
   },
   {
    "duration": 6,
    "start_time": "2023-02-21T08:56:50.636Z"
   },
   {
    "duration": 6,
    "start_time": "2023-02-21T08:56:50.644Z"
   },
   {
    "duration": 122,
    "start_time": "2023-02-21T08:56:50.837Z"
   },
   {
    "duration": 30,
    "start_time": "2023-02-21T08:58:34.196Z"
   },
   {
    "duration": 1539,
    "start_time": "2023-02-21T08:58:37.733Z"
   },
   {
    "duration": 50,
    "start_time": "2023-02-21T08:58:39.274Z"
   },
   {
    "duration": 13,
    "start_time": "2023-02-21T08:58:39.326Z"
   },
   {
    "duration": 14,
    "start_time": "2023-02-21T08:58:39.341Z"
   },
   {
    "duration": 9,
    "start_time": "2023-02-21T08:58:39.357Z"
   },
   {
    "duration": 265,
    "start_time": "2023-02-21T08:58:39.367Z"
   },
   {
    "duration": 21,
    "start_time": "2023-02-21T08:58:39.633Z"
   },
   {
    "duration": 222,
    "start_time": "2023-02-21T08:58:39.655Z"
   },
   {
    "duration": 9,
    "start_time": "2023-02-21T08:58:39.879Z"
   },
   {
    "duration": 976,
    "start_time": "2023-02-21T08:58:39.891Z"
   },
   {
    "duration": 169,
    "start_time": "2023-02-21T08:58:40.869Z"
   },
   {
    "duration": 2813,
    "start_time": "2023-02-21T08:58:41.040Z"
   },
   {
    "duration": 5,
    "start_time": "2023-02-21T08:58:43.855Z"
   },
   {
    "duration": 131,
    "start_time": "2023-02-21T08:58:43.863Z"
   },
   {
    "duration": 3,
    "start_time": "2023-02-21T08:58:43.997Z"
   },
   {
    "duration": 8,
    "start_time": "2023-02-21T08:58:44.001Z"
   },
   {
    "duration": 3,
    "start_time": "2023-02-21T08:58:44.049Z"
   },
   {
    "duration": 22510,
    "start_time": "2023-02-21T08:58:44.054Z"
   },
   {
    "duration": 8587,
    "start_time": "2023-02-21T08:59:06.567Z"
   },
   {
    "duration": 134287,
    "start_time": "2023-02-21T08:59:15.156Z"
   },
   {
    "duration": 310,
    "start_time": "2023-02-21T09:01:29.445Z"
   },
   {
    "duration": 9559,
    "start_time": "2023-02-21T09:01:30.555Z"
   },
   {
    "duration": 2361,
    "start_time": "2023-02-21T09:01:40.116Z"
   },
   {
    "duration": 7,
    "start_time": "2023-02-21T09:01:42.479Z"
   },
   {
    "duration": 12,
    "start_time": "2023-02-21T09:01:42.488Z"
   },
   {
    "duration": 123,
    "start_time": "2023-02-21T09:01:42.502Z"
   },
   {
    "duration": 322,
    "start_time": "2023-02-21T09:01:42.628Z"
   },
   {
    "duration": 39,
    "start_time": "2023-02-21T09:02:03.147Z"
   },
   {
    "duration": 36,
    "start_time": "2023-02-21T09:02:09.926Z"
   },
   {
    "duration": 3389,
    "start_time": "2023-02-21T09:02:11.668Z"
   },
   {
    "duration": 8,
    "start_time": "2023-02-21T09:02:17.660Z"
   },
   {
    "duration": 10,
    "start_time": "2023-02-21T09:02:18.339Z"
   },
   {
    "duration": 254,
    "start_time": "2023-02-21T09:27:35.943Z"
   },
   {
    "duration": 108,
    "start_time": "2023-02-21T09:27:44.102Z"
   },
   {
    "duration": 1978,
    "start_time": "2023-02-21T09:28:02.340Z"
   },
   {
    "duration": 1364,
    "start_time": "2023-02-21T09:28:13.833Z"
   },
   {
    "duration": 215,
    "start_time": "2023-02-21T09:28:22.245Z"
   },
   {
    "duration": 250,
    "start_time": "2023-02-21T09:28:46.349Z"
   },
   {
    "duration": 186,
    "start_time": "2023-02-21T09:28:58.690Z"
   },
   {
    "duration": 301,
    "start_time": "2023-02-21T09:29:23.616Z"
   },
   {
    "duration": 421,
    "start_time": "2023-02-21T09:29:31.624Z"
   },
   {
    "duration": 260,
    "start_time": "2023-02-21T09:29:38.530Z"
   },
   {
    "duration": 262,
    "start_time": "2023-02-21T09:29:45.109Z"
   },
   {
    "duration": 290,
    "start_time": "2023-02-21T09:30:35.560Z"
   },
   {
    "duration": 274,
    "start_time": "2023-02-21T09:30:48.322Z"
   }
  ],
  "kernelspec": {
   "display_name": "Python 3 (ipykernel)",
   "language": "python",
   "name": "python3"
  },
  "language_info": {
   "codemirror_mode": {
    "name": "ipython",
    "version": 3
   },
   "file_extension": ".py",
   "mimetype": "text/x-python",
   "name": "python",
   "nbconvert_exporter": "python",
   "pygments_lexer": "ipython3",
   "version": "3.9.12"
  },
  "toc": {
   "base_numbering": 1,
   "nav_menu": {},
   "number_sections": true,
   "sideBar": true,
   "skip_h1_title": true,
   "title_cell": "Содержание",
   "title_sidebar": "Contents",
   "toc_cell": true,
   "toc_position": {
    "height": "calc(100% - 180px)",
    "left": "10px",
    "top": "150px",
    "width": "165px"
   },
   "toc_section_display": true,
   "toc_window_display": false
  }
 },
 "nbformat": 4,
 "nbformat_minor": 2
}
